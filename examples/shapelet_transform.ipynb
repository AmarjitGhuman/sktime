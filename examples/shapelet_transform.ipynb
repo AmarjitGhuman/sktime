{
 "cells": [
  {
   "cell_type": "markdown",
   "metadata": {},
   "source": [
    "# Shapelets and the Shapelet Transform with sktime\n",
    "\n",
    "Introduced in [1], a shapelet is a time series subsequences that is identified as being representative of class membership. Shapelets are a powerful approach for measuring _phase-independent_ similarity between time series; they can occur at any point within a series and offer _interpretable_ results for how matches occur. The original research extracted shapelets to build a decision tree classifier. \n",
    "\n",
    "The example below illustrates how leaf shape can be represented as a one-dimensional time series (blue line) to distinguish between two species.[2]\n",
    "\n",
    "<img src = \"img/leaf_types.png\">\n",
    "<img src = \"img/verdena_shapelet.png\">\n",
    "\n",
    "The highlighted red subsection of the time series (i.e., \"subsequences\") above is the shapelet that distinguishes *Verbena urticifolia* from *Urtica dioica*.\n",
    "\n",
    "## The Shapelet Transform\n",
    "\n",
    "Much research emphasis has been placed on shapelet-based approaches for time series classification (TSC) since the original research was proposed. The current state-of-the-art for shapelets is the **shapelet transform** (ST) [3, 4]. The transform improves upon the original use of shapelets by separating shapelet extraction from the classification algorithm, allowing interpretable phase-independent classification of time series with any standard classification algorithm (such as random/rotation forest, neural networks, nearest neighbour classifications, ensembles of all, etc.). To facilitate this, rather than recursively assessing data for the best shapelet, the transform evaluates candidate shapelets in a single procedure to rank them based on information gain. Then, given a set of _k_ shapelets, a time series can be transformed into _k_ features by calculating the distance from the series to each shapelet. By transforming a dataset in this manner any vector-based classification algorithm can be applied to a shapelet-transformed time series problem while the interpretability of shapelets is maintained through the ranked list of the _best_ shapelets during transformation. \n",
    "\n",
    "Shapelets can provide interpretable results, as seen in the figure below:\n",
    "\n",
    "<img src = \"img/leaves_shapelets.png\">\n",
    "\n",
    "The shapelet has \"discovered\" where the two plant species distinctly differ. *Urtica dioica* has a stem that connects to the leaf at almost 90 degrees, whereas the stem of *Verbena urticifolia* connects to the leaf at a wider angle. \n",
    "\n",
    "Having found shapelet, its distance to the nearest matching subsequence in all objects in the database can be recorded. Finally, a simple decision tree classifier can be built to determine whether an object $Q$ has a subsequence within a certain distance from shapelet $I$.\n",
    "\n",
    "<img src = \"img/shapelet_classifier.png\">\n",
    "\n",
    "#### References\n",
    "[1] Ye, Lexiang, and Eamonn Keogh. \"Time series shapelets: a novel technique that allows accurate, interpretable and fast classification.\" Data mining and knowledge discovery 22, no. 1-2 (2011): 149-182.\n",
    "\n",
    "[2] Ye, Lexiang, and Eamonn Keogh. \"Time series shapelets: a new primitive for data mining.\" In Proceedings of the 15th ACM SIGKDD international conference on Knowledge discovery and data mining, pp. 947-956. 2009.\n",
    "\n",
    "[3] Lines, Jason, Luke M. Davis, Jon Hills, and Anthony Bagnall. \"A shapelet transform for time series classification.\" In Proceedings of the 18th ACM SIGKDD international conference on Knowledge discovery and data mining, pp. 289-297. ACM, 2012.\n",
    "\n",
    "[4] Hills, Jon, Jason Lines, Edgaras Baranauskas, James Mapp, and Anthony Bagnall. \"Classification of time series by shapelet transformation.\" Data Mining and Knowledge Discovery 28, no. 4 (2014): 851-881.\n",
    "\n",
    "[5] Bostrom, Aaron, and Anthony Bagnall. \"Binary shapelet transform for multiclass time series classification.\" In Transactions on Large-Scale Data-and Knowledge-Centered Systems XXXII, pp. 24-46. Springer, Berlin, Heidelberg, 2017.\n",
    "\n",
    "## Example: The Shapelet Transform in sktime\n",
    "\n",
    "The following workbook demonstrates a full workflow of using the shapelet transform in `sktime` with a `scikit-learn` classifier with the [OSU Leaf](http://www.timeseriesclassification.com/description.php?Dataset=OSULeaf) dataset, which consists of one dimensional outlines of six leaf classes: *Acer Circinatum*, *Acer Glabrum*, *Acer Macrophyllum*, *Acer Negundo*, *Quercus Garryana* and *Quercus Kelloggii*."
   ]
  },
  {
   "cell_type": "code",
   "execution_count": 1,
   "metadata": {},
   "outputs": [],
   "source": [
    "from sktime.datasets import load_osuleaf\n",
    "from sktime.transformers.series_as_features.shapelets import ContractedShapeletTransform\n",
    "\n",
    "train_x, train_y = load_osuleaf(split='train', return_X_y=True)\n",
    "test_x, test_y = load_osuleaf(split='test', return_X_y=True)"
   ]
  },
  {
   "cell_type": "code",
   "execution_count": 2,
   "metadata": {},
   "outputs": [
    {
     "name": "stdout",
     "output_type": "stream",
     "text": [
      "visiting series: 46 (#1)\n"
     ]
    },
    {
     "name": "stdout",
     "output_type": "stream",
     "text": [
      "Candidate finished. 00:51 remaining\n"
     ]
    },
    {
     "name": "stdout",
     "output_type": "stream",
     "text": [
      "Candidate finished. 00:46 remaining\n"
     ]
    },
    {
     "name": "stdout",
     "output_type": "stream",
     "text": [
      "Candidate rejected. 00:-16 remaining\n"
     ]
    },
    {
     "name": "stdout",
     "output_type": "stream",
     "text": [
      "Candidate finished. 00:35 remaining\n"
     ]
    },
    {
     "name": "stdout",
     "output_type": "stream",
     "text": [
      "Candidate finished. 00:32 remaining\n"
     ]
    },
    {
     "name": "stdout",
     "output_type": "stream",
     "text": [
      "Candidate finished. 00:25 remaining\n"
     ]
    },
    {
     "name": "stdout",
     "output_type": "stream",
     "text": [
      "Candidate finished. 00:20 remaining\n"
     ]
    },
    {
     "name": "stdout",
     "output_type": "stream",
     "text": [
      "Candidate finished. 00:17 remaining\n"
     ]
    },
    {
     "name": "stdout",
     "output_type": "stream",
     "text": [
      "Candidate finished. 00:10 remaining\n"
     ]
    },
    {
     "name": "stdout",
     "output_type": "stream",
     "text": [
      "No more time available! It's been 00:57\n",
      "Stopping search\n"
     ]
    },
    {
     "data": {
      "text/plain": [
       "ContractedShapeletTransform(num_candidates_to_sample_per_case=10,\n",
       "                            random_state=RandomState(MT19937) at 0x1094B38D0,\n",
       "                            time_contract_in_mins=1, verbose=2)"
      ]
     },
     "execution_count": 2,
     "metadata": {},
     "output_type": "execute_result"
    }
   ],
   "source": [
    "# How long (in minutes) to extract shapelets for.\n",
    "# This is a simple lower-bound initially; once time is up, no further shapelets will be assessed\n",
    "time_contract_in_mins = 1\n",
    "\n",
    "# The initial number of shapelet candidates to assess per training series. If all series are visited\n",
    "# and time remains on the contract then another pass of the data will occur\n",
    "initial_num_shapelets_per_case = 10\n",
    "\n",
    "# Whether or not to print on-going information about shapelet extraction. Useful for demo/debugging\n",
    "verbose = 2\n",
    "\n",
    "st = ContractedShapeletTransform(\n",
    "    time_contract_in_mins=time_contract_in_mins,\n",
    "    num_candidates_to_sample_per_case=initial_num_shapelets_per_case,\n",
    "    verbose=verbose)\n",
    "st.fit(train_x, train_y)"
   ]
  },
  {
   "cell_type": "code",
   "execution_count": 3,
   "metadata": {},
   "outputs": [
    {
     "name": "stdout",
     "output_type": "stream",
     "text": [
      "Series ID: 46, start_pos: 273, length: 60, info_gain: 0.12973428563400138, \n"
     ]
    },
    {
     "data": {
      "image/png": "[encoded data removed]",
      "text/plain": [
       "<Figure size 432x288 with 1 Axes>"
      ]
     },
     "metadata": {
      "needs_background": "light"
     },
     "output_type": "display_data"
    }
   ],
   "source": [
    "%matplotlib inline\n",
    "import matplotlib.pyplot as plt\n",
    "\n",
    "# for each extracted shapelet (in descending order of quality/information gain)\n",
    "for s in st.shapelets[0:5]:\n",
    "\n",
    "    # summary info about the shapelet\n",
    "    print(s)\n",
    "\n",
    "    # plot the series that the shapelet was extracted from\n",
    "    plt.plot(\n",
    "        train_x.iloc[s.series_id,0],\n",
    "        'gray'\n",
    "    )\n",
    "\n",
    "    # overlay the shapelet onto the full series\n",
    "    plt.plot(\n",
    "        list(range(s.start_pos,(s.start_pos+s.length))),\n",
    "        train_x.iloc[s.series_id,0][s.start_pos:s.start_pos+s.length],\n",
    "        'r',\n",
    "        linewidth=3.0\n",
    "    )\n",
    "    plt.show()"
   ]
  },
  {
   "cell_type": "code",
   "execution_count": 4,
   "metadata": {},
   "outputs": [
    {
     "name": "stdout",
     "output_type": "stream",
     "text": [
      "#0: Series ID: 46, start_pos: 273, length: 60, info_gain: 0.12973428563400138, \n"
     ]
    },
    {
     "data": {
      "image/png": "[encoded data removed]",
      "text/plain": [
       "<Figure size 432x288 with 1 Axes>"
      ]
     },
     "metadata": {
      "needs_background": "light"
     },
     "output_type": "display_data"
    }
   ],
   "source": [
    "# for each extracted shapelet (in descending order of quality/information gain)\n",
    "for i in range(0,min(len(st.shapelets),5)):\n",
    "    s = st.shapelets[i]\n",
    "    # summary info about the shapelet\n",
    "    print(\"#\"+str(i)+\": \"+str(s))\n",
    "\n",
    "    # overlay shapelets\n",
    "    plt.plot(\n",
    "        list(range(s.start_pos,(s.start_pos+s.length))),\n",
    "        train_x.iloc[s.series_id,0][s.start_pos:s.start_pos+s.length]\n",
    "    )\n",
    "\n",
    "plt.show()"
   ]
  },
  {
   "cell_type": "code",
   "execution_count": 5,
   "metadata": {},
   "outputs": [
    {
     "name": "stdout",
     "output_type": "stream",
     "text": [
      "Results:\n",
      "Correct:\n",
      "\t55/242\n",
      "\t0.22727272727272727\n",
      "\n",
      "Timing:\n",
      "\tTo build:   65.7817370891571 secs\n",
      "\tTo predict: 7.50532078742981 secs\n"
     ]
    }
   ],
   "source": [
    "import time\n",
    "from sktime.datasets import load_osuleaf\n",
    "from sklearn.ensemble.forest import RandomForestClassifier\n",
    "from sklearn.pipeline import Pipeline\n",
    "\n",
    "train_x, train_y = load_osuleaf(split='train', return_X_y=True)\n",
    "test_x, test_y = load_osuleaf(split='test', return_X_y=True)\n",
    "\n",
    "# example pipleine with 1 minute time limit\n",
    "pipeline = Pipeline([\n",
    "    ('st', ContractedShapeletTransform(time_contract_in_mins=time_contract_in_mins,\n",
    "                                       num_candidates_to_sample_per_case=10,\n",
    "                                       verbose=False)),\n",
    "    ('rf', RandomForestClassifier(n_estimators=100)),\n",
    "])\n",
    "\n",
    "start = time.time()\n",
    "pipeline.fit(train_x, train_y)\n",
    "end_build = time.time()\n",
    "preds = pipeline.predict(test_x)\n",
    "end_test = time.time()\n",
    "\n",
    "print(\"Results:\")\n",
    "print(\"Correct:\")\n",
    "correct = sum(preds == test_y)\n",
    "print(\"\\t\"+str(correct)+\"/\"+str(len(test_y)))\n",
    "print(\"\\t\"+str(correct/len(test_y)))\n",
    "print(\"\\nTiming:\")\n",
    "print(\"\\tTo build:   \"+str(end_build-start)+\" secs\")\n",
    "print(\"\\tTo predict: \"+str(end_test-end_build)+\" secs\")"
   ]
  }
 ],
 "metadata": {
  "@webio": {
   "lastCommId": null,
   "lastKernelId": null
  },
  "kernelspec": {
   "display_name": "Python 3",
   "language": "python",
   "name": "python3"
  },
  "language_info": {
   "codemirror_mode": {
    "name": "ipython",
    "version": 3
   },
   "file_extension": ".py",
   "mimetype": "text/x-python",
   "name": "python",
   "nbconvert_exporter": "python",
   "pygments_lexer": "ipython3",
   "version": "3.7.7"
  }
 },
 "nbformat": 4,
 "nbformat_minor": 4
}
