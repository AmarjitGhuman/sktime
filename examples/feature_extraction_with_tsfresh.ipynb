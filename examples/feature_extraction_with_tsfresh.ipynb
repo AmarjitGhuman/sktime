{
 "cells": [
  {
   "cell_type": "markdown",
   "metadata": {},
   "source": [
    "# Feature extraction with tsfresh transformer\n",
    "\n",
    "In this tutorial, we show how you can use sktime with [tsfresh](https://tsfresh.readthedocs.io) to first extract features from time series, so that we can then use any scikit-learn estimator.\n",
    "\n",
    "## Preliminaries\n",
    "You have to install tsfresh if you haven't already. To install it, uncomment the cell below:"
   ]
  },
  {
   "cell_type": "code",
   "execution_count": 1,
   "metadata": {},
   "outputs": [],
   "source": [
    "# !pip install --upgrade tsfresh"
   ]
  },
  {
   "cell_type": "code",
   "execution_count": 2,
   "metadata": {},
   "outputs": [],
   "source": [
    "import numpy as np\n",
    "from sklearn.model_selection import train_test_split\n",
    "from sklearn.ensemble import RandomForestClassifier\n",
    "from sklearn.pipeline import make_pipeline\n",
    "from sktime.datasets import load_basic_motions\n",
    "from sktime.datasets import load_arrow_head\n",
    "from sktime.transformers.series_as_features.summarize import \\\n",
    "    TSFreshFeatureExtractor"
   ]
  },
  {
   "cell_type": "markdown",
   "metadata": {},
   "source": [
    "## Univariate time series classification data\n",
    "\n",
    "For more details on the data set, see the [univariate time series classification notebook](https://github.com/alan-turing-institute/sktime/blob/master/examples/02_classification_univariate.ipynb)."
   ]
  },
  {
   "cell_type": "code",
   "execution_count": 3,
   "metadata": {},
   "outputs": [
    {
     "name": "stdout",
     "output_type": "stream",
     "text": [
      "(158, 1) (158,) (53, 1) (53,)\n"
     ]
    }
   ],
   "source": [
    "X, y = load_arrow_head(return_X_y=True)\n",
    "X_train, X_test, y_train, y_test = train_test_split(X, y)\n",
    "print(X_train.shape, y_train.shape, X_test.shape, y_test.shape)"
   ]
  },
  {
   "cell_type": "code",
   "execution_count": 4,
   "metadata": {
    "jupyter": {
     "outputs_hidden": false
    },
    "pycharm": {
     "name": "#%%\n"
    }
   },
   "outputs": [
    {
     "data": {
      "text/html": [
       "<div>\n",
       "<style scoped>\n",
       "    .dataframe tbody tr th:only-of-type {\n",
       "        vertical-align: middle;\n",
       "    }\n",
       "\n",
       "    .dataframe tbody tr th {\n",
       "        vertical-align: top;\n",
       "    }\n",
       "\n",
       "    .dataframe thead th {\n",
       "        text-align: right;\n",
       "    }\n",
       "</style>\n",
       "<table border=\"1\" class=\"dataframe\">\n",
       "  <thead>\n",
       "    <tr style=\"text-align: right;\">\n",
       "      <th></th>\n",
       "      <th>dim_0</th>\n",
       "    </tr>\n",
       "  </thead>\n",
       "  <tbody>\n",
       "    <tr>\n",
       "      <th>40</th>\n",
       "      <td>0     -2.0324\n",
       "1     -2.0386\n",
       "2     -2.0182\n",
       "3   ...</td>\n",
       "    </tr>\n",
       "    <tr>\n",
       "      <th>172</th>\n",
       "      <td>0     -1.6033\n",
       "1     -1.5874\n",
       "2     -1.5774\n",
       "3   ...</td>\n",
       "    </tr>\n",
       "    <tr>\n",
       "      <th>30</th>\n",
       "      <td>0     -2.1310\n",
       "1     -2.1095\n",
       "2     -2.0842\n",
       "3   ...</td>\n",
       "    </tr>\n",
       "    <tr>\n",
       "      <th>55</th>\n",
       "      <td>0     -1.9399\n",
       "1     -1.9377\n",
       "2     -1.9112\n",
       "3   ...</td>\n",
       "    </tr>\n",
       "    <tr>\n",
       "      <th>7</th>\n",
       "      <td>0     -1.6336\n",
       "1     -1.6432\n",
       "2     -1.6137\n",
       "3   ...</td>\n",
       "    </tr>\n",
       "  </tbody>\n",
       "</table>\n",
       "</div>"
      ],
      "text/plain": [
       "                                                 dim_0\n",
       "40   0     -2.0324\n",
       "1     -2.0386\n",
       "2     -2.0182\n",
       "3   ...\n",
       "172  0     -1.6033\n",
       "1     -1.5874\n",
       "2     -1.5774\n",
       "3   ...\n",
       "30   0     -2.1310\n",
       "1     -2.1095\n",
       "2     -2.0842\n",
       "3   ...\n",
       "55   0     -1.9399\n",
       "1     -1.9377\n",
       "2     -1.9112\n",
       "3   ...\n",
       "7    0     -1.6336\n",
       "1     -1.6432\n",
       "2     -1.6137\n",
       "3   ..."
      ]
     },
     "execution_count": 4,
     "metadata": {},
     "output_type": "execute_result"
    }
   ],
   "source": [
    "X_train.head()"
   ]
  },
  {
   "cell_type": "code",
   "execution_count": 5,
   "metadata": {},
   "outputs": [
    {
     "data": {
      "text/plain": [
       "array(['0', '1', '2'], dtype=object)"
      ]
     },
     "execution_count": 5,
     "metadata": {},
     "output_type": "execute_result"
    }
   ],
   "source": [
    "# binary classification task\n",
    "np.unique(y_train)"
   ]
  },
  {
   "cell_type": "markdown",
   "metadata": {},
   "source": [
    "## Using tsfresh to extract features"
   ]
  },
  {
   "cell_type": "code",
   "execution_count": 6,
   "metadata": {},
   "outputs": [
    {
     "name": "stderr",
     "output_type": "stream",
     "text": [
      "/Users/travis/build/alan-turing-institute/sktime/sktime/transformers/series_as_features/summarize/_tsfresh.py:150: UserWarning: Found non-unique index, replaced with unique index.\n",
      "  warn(\"Found non-unique index, replaced with unique index.\")\n"
     ]
    },
    {
     "name": "stderr",
     "output_type": "stream",
     "text": [
      "\r",
      "Feature Extraction:   0%|          | 0/5 [00:00<?, ?it/s]"
     ]
    },
    {
     "name": "stderr",
     "output_type": "stream",
     "text": [
      "\r",
      "Feature Extraction:  20%|██        | 1/5 [00:04<00:17,  4.36s/it]"
     ]
    },
    {
     "name": "stderr",
     "output_type": "stream",
     "text": [
      "\r",
      "Feature Extraction:  40%|████      | 2/5 [00:08<00:13,  4.34s/it]"
     ]
    },
    {
     "name": "stderr",
     "output_type": "stream",
     "text": [
      "\r",
      "Feature Extraction:  60%|██████    | 3/5 [00:12<00:08,  4.32s/it]"
     ]
    },
    {
     "name": "stderr",
     "output_type": "stream",
     "text": [
      "\r",
      "Feature Extraction:  80%|████████  | 4/5 [00:17<00:04,  4.29s/it]"
     ]
    },
    {
     "name": "stderr",
     "output_type": "stream",
     "text": [
      "\r",
      "Feature Extraction: 100%|██████████| 5/5 [00:21<00:00,  4.20s/it]"
     ]
    },
    {
     "name": "stderr",
     "output_type": "stream",
     "text": [
      "\r",
      "Feature Extraction: 100%|██████████| 5/5 [00:21<00:00,  4.23s/it]"
     ]
    },
    {
     "name": "stderr",
     "output_type": "stream",
     "text": [
      "\n"
     ]
    },
    {
     "data": {
      "text/html": [
       "<div>\n",
       "<style scoped>\n",
       "    .dataframe tbody tr th:only-of-type {\n",
       "        vertical-align: middle;\n",
       "    }\n",
       "\n",
       "    .dataframe tbody tr th {\n",
       "        vertical-align: top;\n",
       "    }\n",
       "\n",
       "    .dataframe thead th {\n",
       "        text-align: right;\n",
       "    }\n",
       "</style>\n",
       "<table border=\"1\" class=\"dataframe\">\n",
       "  <thead>\n",
       "    <tr style=\"text-align: right;\">\n",
       "      <th>variable</th>\n",
       "      <th>dim_0__abs_energy</th>\n",
       "      <th>dim_0__absolute_sum_of_changes</th>\n",
       "      <th>dim_0__agg_autocorrelation__f_agg_\"mean\"__maxlag_40</th>\n",
       "      <th>dim_0__agg_autocorrelation__f_agg_\"median\"__maxlag_40</th>\n",
       "      <th>dim_0__agg_autocorrelation__f_agg_\"var\"__maxlag_40</th>\n",
       "      <th>dim_0__agg_linear_trend__attr_\"intercept\"__chunk_len_10__f_agg_\"max\"</th>\n",
       "      <th>dim_0__agg_linear_trend__attr_\"intercept\"__chunk_len_10__f_agg_\"mean\"</th>\n",
       "      <th>dim_0__agg_linear_trend__attr_\"intercept\"__chunk_len_10__f_agg_\"min\"</th>\n",
       "      <th>dim_0__agg_linear_trend__attr_\"intercept\"__chunk_len_10__f_agg_\"var\"</th>\n",
       "      <th>dim_0__agg_linear_trend__attr_\"intercept\"__chunk_len_50__f_agg_\"max\"</th>\n",
       "      <th>...</th>\n",
       "      <th>dim_0__symmetry_looking__r_0.9500000000000001</th>\n",
       "      <th>dim_0__time_reversal_asymmetry_statistic__lag_1</th>\n",
       "      <th>dim_0__time_reversal_asymmetry_statistic__lag_2</th>\n",
       "      <th>dim_0__time_reversal_asymmetry_statistic__lag_3</th>\n",
       "      <th>dim_0__value_count__value_-1</th>\n",
       "      <th>dim_0__value_count__value_0</th>\n",
       "      <th>dim_0__value_count__value_1</th>\n",
       "      <th>dim_0__variance</th>\n",
       "      <th>dim_0__variance_larger_than_standard_deviation</th>\n",
       "      <th>dim_0__variation_coefficient</th>\n",
       "    </tr>\n",
       "  </thead>\n",
       "  <tbody>\n",
       "    <tr>\n",
       "      <th>0</th>\n",
       "      <td>249.999518</td>\n",
       "      <td>85.066186</td>\n",
       "      <td>0.177512</td>\n",
       "      <td>0.213324</td>\n",
       "      <td>0.112479</td>\n",
       "      <td>-0.186523</td>\n",
       "      <td>-0.430731</td>\n",
       "      <td>-1.135556</td>\n",
       "      <td>0.081582</td>\n",
       "      <td>0.826341</td>\n",
       "      <td>...</td>\n",
       "      <td>1.0</td>\n",
       "      <td>0.066283</td>\n",
       "      <td>0.001462</td>\n",
       "      <td>-0.013138</td>\n",
       "      <td>0.0</td>\n",
       "      <td>0.0</td>\n",
       "      <td>0.0</td>\n",
       "      <td>0.996014</td>\n",
       "      <td>0.0</td>\n",
       "      <td>-2.197362e+06</td>\n",
       "    </tr>\n",
       "    <tr>\n",
       "      <th>1</th>\n",
       "      <td>250.000719</td>\n",
       "      <td>76.403540</td>\n",
       "      <td>0.352691</td>\n",
       "      <td>0.400189</td>\n",
       "      <td>0.084685</td>\n",
       "      <td>-0.301243</td>\n",
       "      <td>-0.665539</td>\n",
       "      <td>-1.161841</td>\n",
       "      <td>0.088764</td>\n",
       "      <td>0.604482</td>\n",
       "      <td>...</td>\n",
       "      <td>1.0</td>\n",
       "      <td>0.030505</td>\n",
       "      <td>0.004144</td>\n",
       "      <td>-0.013691</td>\n",
       "      <td>0.0</td>\n",
       "      <td>0.0</td>\n",
       "      <td>0.0</td>\n",
       "      <td>0.996019</td>\n",
       "      <td>0.0</td>\n",
       "      <td>-1.616128e+06</td>\n",
       "    </tr>\n",
       "    <tr>\n",
       "      <th>2</th>\n",
       "      <td>250.001068</td>\n",
       "      <td>92.131462</td>\n",
       "      <td>0.162395</td>\n",
       "      <td>0.181340</td>\n",
       "      <td>0.095384</td>\n",
       "      <td>0.047701</td>\n",
       "      <td>-0.306166</td>\n",
       "      <td>-1.178158</td>\n",
       "      <td>0.149008</td>\n",
       "      <td>0.991258</td>\n",
       "      <td>...</td>\n",
       "      <td>1.0</td>\n",
       "      <td>0.068152</td>\n",
       "      <td>0.007123</td>\n",
       "      <td>-0.017772</td>\n",
       "      <td>0.0</td>\n",
       "      <td>0.0</td>\n",
       "      <td>0.0</td>\n",
       "      <td>0.996020</td>\n",
       "      <td>0.0</td>\n",
       "      <td>5.262606e+05</td>\n",
       "    </tr>\n",
       "    <tr>\n",
       "      <th>3</th>\n",
       "      <td>249.998689</td>\n",
       "      <td>83.050412</td>\n",
       "      <td>0.295672</td>\n",
       "      <td>0.311059</td>\n",
       "      <td>0.069416</td>\n",
       "      <td>-0.299377</td>\n",
       "      <td>-0.592225</td>\n",
       "      <td>-1.143836</td>\n",
       "      <td>0.090197</td>\n",
       "      <td>0.663791</td>\n",
       "      <td>...</td>\n",
       "      <td>1.0</td>\n",
       "      <td>0.049578</td>\n",
       "      <td>0.006796</td>\n",
       "      <td>-0.022519</td>\n",
       "      <td>0.0</td>\n",
       "      <td>0.0</td>\n",
       "      <td>0.0</td>\n",
       "      <td>0.996011</td>\n",
       "      <td>0.0</td>\n",
       "      <td>-6.958301e+06</td>\n",
       "    </tr>\n",
       "    <tr>\n",
       "      <th>4</th>\n",
       "      <td>249.999602</td>\n",
       "      <td>76.209340</td>\n",
       "      <td>0.306337</td>\n",
       "      <td>0.365832</td>\n",
       "      <td>0.107011</td>\n",
       "      <td>-0.179761</td>\n",
       "      <td>-0.470085</td>\n",
       "      <td>-0.992107</td>\n",
       "      <td>0.078930</td>\n",
       "      <td>0.748175</td>\n",
       "      <td>...</td>\n",
       "      <td>1.0</td>\n",
       "      <td>0.038551</td>\n",
       "      <td>0.010539</td>\n",
       "      <td>0.004764</td>\n",
       "      <td>0.0</td>\n",
       "      <td>0.0</td>\n",
       "      <td>0.0</td>\n",
       "      <td>0.996014</td>\n",
       "      <td>0.0</td>\n",
       "      <td>1.565621e+07</td>\n",
       "    </tr>\n",
       "  </tbody>\n",
       "</table>\n",
       "<p>5 rows × 757 columns</p>\n",
       "</div>"
      ],
      "text/plain": [
       "variable  dim_0__abs_energy  dim_0__absolute_sum_of_changes  \\\n",
       "0                249.999518                       85.066186   \n",
       "1                250.000719                       76.403540   \n",
       "2                250.001068                       92.131462   \n",
       "3                249.998689                       83.050412   \n",
       "4                249.999602                       76.209340   \n",
       "\n",
       "variable  dim_0__agg_autocorrelation__f_agg_\"mean\"__maxlag_40  \\\n",
       "0                                                  0.177512     \n",
       "1                                                  0.352691     \n",
       "2                                                  0.162395     \n",
       "3                                                  0.295672     \n",
       "4                                                  0.306337     \n",
       "\n",
       "variable  dim_0__agg_autocorrelation__f_agg_\"median\"__maxlag_40  \\\n",
       "0                                                  0.213324       \n",
       "1                                                  0.400189       \n",
       "2                                                  0.181340       \n",
       "3                                                  0.311059       \n",
       "4                                                  0.365832       \n",
       "\n",
       "variable  dim_0__agg_autocorrelation__f_agg_\"var\"__maxlag_40  \\\n",
       "0                                                  0.112479    \n",
       "1                                                  0.084685    \n",
       "2                                                  0.095384    \n",
       "3                                                  0.069416    \n",
       "4                                                  0.107011    \n",
       "\n",
       "variable  dim_0__agg_linear_trend__attr_\"intercept\"__chunk_len_10__f_agg_\"max\"  \\\n",
       "0                                                 -0.186523                      \n",
       "1                                                 -0.301243                      \n",
       "2                                                  0.047701                      \n",
       "3                                                 -0.299377                      \n",
       "4                                                 -0.179761                      \n",
       "\n",
       "variable  dim_0__agg_linear_trend__attr_\"intercept\"__chunk_len_10__f_agg_\"mean\"  \\\n",
       "0                                                 -0.430731                       \n",
       "1                                                 -0.665539                       \n",
       "2                                                 -0.306166                       \n",
       "3                                                 -0.592225                       \n",
       "4                                                 -0.470085                       \n",
       "\n",
       "variable  dim_0__agg_linear_trend__attr_\"intercept\"__chunk_len_10__f_agg_\"min\"  \\\n",
       "0                                                 -1.135556                      \n",
       "1                                                 -1.161841                      \n",
       "2                                                 -1.178158                      \n",
       "3                                                 -1.143836                      \n",
       "4                                                 -0.992107                      \n",
       "\n",
       "variable  dim_0__agg_linear_trend__attr_\"intercept\"__chunk_len_10__f_agg_\"var\"  \\\n",
       "0                                                  0.081582                      \n",
       "1                                                  0.088764                      \n",
       "2                                                  0.149008                      \n",
       "3                                                  0.090197                      \n",
       "4                                                  0.078930                      \n",
       "\n",
       "variable  dim_0__agg_linear_trend__attr_\"intercept\"__chunk_len_50__f_agg_\"max\"  \\\n",
       "0                                                  0.826341                      \n",
       "1                                                  0.604482                      \n",
       "2                                                  0.991258                      \n",
       "3                                                  0.663791                      \n",
       "4                                                  0.748175                      \n",
       "\n",
       "variable  ...  dim_0__symmetry_looking__r_0.9500000000000001  \\\n",
       "0         ...                                            1.0   \n",
       "1         ...                                            1.0   \n",
       "2         ...                                            1.0   \n",
       "3         ...                                            1.0   \n",
       "4         ...                                            1.0   \n",
       "\n",
       "variable  dim_0__time_reversal_asymmetry_statistic__lag_1  \\\n",
       "0                                                0.066283   \n",
       "1                                                0.030505   \n",
       "2                                                0.068152   \n",
       "3                                                0.049578   \n",
       "4                                                0.038551   \n",
       "\n",
       "variable  dim_0__time_reversal_asymmetry_statistic__lag_2  \\\n",
       "0                                                0.001462   \n",
       "1                                                0.004144   \n",
       "2                                                0.007123   \n",
       "3                                                0.006796   \n",
       "4                                                0.010539   \n",
       "\n",
       "variable  dim_0__time_reversal_asymmetry_statistic__lag_3  \\\n",
       "0                                               -0.013138   \n",
       "1                                               -0.013691   \n",
       "2                                               -0.017772   \n",
       "3                                               -0.022519   \n",
       "4                                                0.004764   \n",
       "\n",
       "variable  dim_0__value_count__value_-1  dim_0__value_count__value_0  \\\n",
       "0                                  0.0                          0.0   \n",
       "1                                  0.0                          0.0   \n",
       "2                                  0.0                          0.0   \n",
       "3                                  0.0                          0.0   \n",
       "4                                  0.0                          0.0   \n",
       "\n",
       "variable  dim_0__value_count__value_1  dim_0__variance  \\\n",
       "0                                 0.0         0.996014   \n",
       "1                                 0.0         0.996019   \n",
       "2                                 0.0         0.996020   \n",
       "3                                 0.0         0.996011   \n",
       "4                                 0.0         0.996014   \n",
       "\n",
       "variable  dim_0__variance_larger_than_standard_deviation  \\\n",
       "0                                                    0.0   \n",
       "1                                                    0.0   \n",
       "2                                                    0.0   \n",
       "3                                                    0.0   \n",
       "4                                                    0.0   \n",
       "\n",
       "variable  dim_0__variation_coefficient  \n",
       "0                        -2.197362e+06  \n",
       "1                        -1.616128e+06  \n",
       "2                         5.262606e+05  \n",
       "3                        -6.958301e+06  \n",
       "4                         1.565621e+07  \n",
       "\n",
       "[5 rows x 757 columns]"
      ]
     },
     "execution_count": 6,
     "metadata": {},
     "output_type": "execute_result"
    }
   ],
   "source": [
    "# tf = TsFreshTransfomer()\n",
    "t = TSFreshFeatureExtractor(default_fc_parameters=\"efficient\", show_warnings=False)\n",
    "Xt = t.fit_transform(X_train)\n",
    "Xt.head()"
   ]
  },
  {
   "cell_type": "markdown",
   "metadata": {},
   "source": [
    "## Using tsfresh with sktime"
   ]
  },
  {
   "cell_type": "code",
   "execution_count": 7,
   "metadata": {},
   "outputs": [
    {
     "name": "stderr",
     "output_type": "stream",
     "text": [
      "/Users/travis/build/alan-turing-institute/sktime/sktime/transformers/series_as_features/summarize/_tsfresh.py:150: UserWarning: Found non-unique index, replaced with unique index.\n",
      "  warn(\"Found non-unique index, replaced with unique index.\")\n"
     ]
    },
    {
     "name": "stderr",
     "output_type": "stream",
     "text": [
      "\r",
      "Feature Extraction:   0%|          | 0/5 [00:00<?, ?it/s]"
     ]
    },
    {
     "name": "stderr",
     "output_type": "stream",
     "text": [
      "\r",
      "Feature Extraction:  20%|██        | 1/5 [00:04<00:18,  4.69s/it]"
     ]
    },
    {
     "name": "stderr",
     "output_type": "stream",
     "text": [
      "\r",
      "Feature Extraction:  40%|████      | 2/5 [00:08<00:13,  4.47s/it]"
     ]
    },
    {
     "name": "stderr",
     "output_type": "stream",
     "text": [
      "\r",
      "Feature Extraction:  60%|██████    | 3/5 [00:12<00:08,  4.34s/it]"
     ]
    },
    {
     "name": "stderr",
     "output_type": "stream",
     "text": [
      "\r",
      "Feature Extraction:  80%|████████  | 4/5 [00:16<00:04,  4.24s/it]"
     ]
    },
    {
     "name": "stderr",
     "output_type": "stream",
     "text": [
      "\r",
      "Feature Extraction: 100%|██████████| 5/5 [00:20<00:00,  4.08s/it]"
     ]
    },
    {
     "name": "stderr",
     "output_type": "stream",
     "text": [
      "\r",
      "Feature Extraction: 100%|██████████| 5/5 [00:20<00:00,  4.08s/it]"
     ]
    },
    {
     "name": "stderr",
     "output_type": "stream",
     "text": [
      "\n"
     ]
    },
    {
     "name": "stderr",
     "output_type": "stream",
     "text": [
      "/Users/travis/build/alan-turing-institute/sktime/sktime/transformers/series_as_features/summarize/_tsfresh.py:150: UserWarning: Found non-unique index, replaced with unique index.\n",
      "  warn(\"Found non-unique index, replaced with unique index.\")\n"
     ]
    },
    {
     "name": "stderr",
     "output_type": "stream",
     "text": [
      "\r",
      "Feature Extraction:   0%|          | 0/5 [00:00<?, ?it/s]"
     ]
    },
    {
     "name": "stderr",
     "output_type": "stream",
     "text": [
      "\r",
      "Feature Extraction:  20%|██        | 1/5 [00:01<00:05,  1.43s/it]"
     ]
    },
    {
     "name": "stderr",
     "output_type": "stream",
     "text": [
      "\r",
      "Feature Extraction:  40%|████      | 2/5 [00:02<00:04,  1.41s/it]"
     ]
    },
    {
     "name": "stderr",
     "output_type": "stream",
     "text": [
      "\r",
      "Feature Extraction:  60%|██████    | 3/5 [00:04<00:02,  1.39s/it]"
     ]
    },
    {
     "name": "stderr",
     "output_type": "stream",
     "text": [
      "\r",
      "Feature Extraction:  80%|████████  | 4/5 [00:05<00:01,  1.38s/it]"
     ]
    },
    {
     "name": "stderr",
     "output_type": "stream",
     "text": [
      "\r",
      "Feature Extraction: 100%|██████████| 5/5 [00:06<00:00,  1.30s/it]"
     ]
    },
    {
     "name": "stderr",
     "output_type": "stream",
     "text": [
      "\r",
      "Feature Extraction: 100%|██████████| 5/5 [00:06<00:00,  1.33s/it]"
     ]
    },
    {
     "name": "stderr",
     "output_type": "stream",
     "text": [
      "\n"
     ]
    },
    {
     "data": {
      "text/plain": [
       "0.8113207547169812"
      ]
     },
     "execution_count": 7,
     "metadata": {},
     "output_type": "execute_result"
    }
   ],
   "source": [
    "classifier = make_pipeline(\n",
    "    TSFreshFeatureExtractor(default_fc_parameters=\"efficient\", show_warnings=False),\n",
    "    RandomForestClassifier()\n",
    ")\n",
    "classifier.fit(X_train, y_train)\n",
    "classifier.score(X_test, y_test)"
   ]
  },
  {
   "cell_type": "markdown",
   "metadata": {},
   "source": [
    "## Multivariate time series classification data"
   ]
  },
  {
   "cell_type": "code",
   "execution_count": 8,
   "metadata": {
    "scrolled": true
   },
   "outputs": [
    {
     "name": "stdout",
     "output_type": "stream",
     "text": [
      "(60, 6) (60,) (20, 6) (20,)\n"
     ]
    }
   ],
   "source": [
    "X, y = load_basic_motions(return_X_y=True)\n",
    "X_train, X_test, y_train, y_test = train_test_split(X, y)\n",
    "print(X_train.shape, y_train.shape, X_test.shape, y_test.shape)"
   ]
  },
  {
   "cell_type": "code",
   "execution_count": 9,
   "metadata": {
    "jupyter": {
     "outputs_hidden": false
    },
    "pycharm": {
     "name": "#%%\n"
    }
   },
   "outputs": [
    {
     "data": {
      "text/html": [
       "<div>\n",
       "<style scoped>\n",
       "    .dataframe tbody tr th:only-of-type {\n",
       "        vertical-align: middle;\n",
       "    }\n",
       "\n",
       "    .dataframe tbody tr th {\n",
       "        vertical-align: top;\n",
       "    }\n",
       "\n",
       "    .dataframe thead th {\n",
       "        text-align: right;\n",
       "    }\n",
       "</style>\n",
       "<table border=\"1\" class=\"dataframe\">\n",
       "  <thead>\n",
       "    <tr style=\"text-align: right;\">\n",
       "      <th></th>\n",
       "      <th>dim_0</th>\n",
       "      <th>dim_1</th>\n",
       "      <th>dim_2</th>\n",
       "      <th>dim_3</th>\n",
       "      <th>dim_4</th>\n",
       "      <th>dim_5</th>\n",
       "    </tr>\n",
       "  </thead>\n",
       "  <tbody>\n",
       "    <tr>\n",
       "      <th>2</th>\n",
       "      <td>0    -0.663284\n",
       "1    -0.663284\n",
       "2     5.393924\n",
       "3...</td>\n",
       "      <td>0     0.273010\n",
       "1     0.273010\n",
       "2    -3.079673\n",
       "3...</td>\n",
       "      <td>0    -0.160963\n",
       "1    -0.160963\n",
       "2    -3.175911\n",
       "3...</td>\n",
       "      <td>0    -0.245030\n",
       "1    -0.245030\n",
       "2    -6.408074\n",
       "3...</td>\n",
       "      <td>0    -0.077238\n",
       "1    -0.077238\n",
       "2     0.471417\n",
       "3...</td>\n",
       "      <td>0    -0.018644\n",
       "1    -0.018644\n",
       "2    -3.592890\n",
       "3...</td>\n",
       "    </tr>\n",
       "    <tr>\n",
       "      <th>10</th>\n",
       "      <td>0      0.300413\n",
       "1      0.300413\n",
       "2     -1.96499...</td>\n",
       "      <td>0      0.727580\n",
       "1      0.727580\n",
       "2     -0.30055...</td>\n",
       "      <td>0     0.878731\n",
       "1     0.878731\n",
       "2    -1.226914\n",
       "3...</td>\n",
       "      <td>0    -0.082565\n",
       "1    -0.082565\n",
       "2    -0.631219\n",
       "3...</td>\n",
       "      <td>0    -0.055931\n",
       "1    -0.055931\n",
       "2     0.039951\n",
       "3...</td>\n",
       "      <td>0     0.668507\n",
       "1     0.668507\n",
       "2     0.130505\n",
       "3...</td>\n",
       "    </tr>\n",
       "    <tr>\n",
       "      <th>3</th>\n",
       "      <td>0    -1.088052\n",
       "1    -1.088052\n",
       "2    -0.683620\n",
       "3...</td>\n",
       "      <td>0     0.183832\n",
       "1     0.183832\n",
       "2    -2.909047\n",
       "3...</td>\n",
       "      <td>0    -0.260871\n",
       "1    -0.260871\n",
       "2     1.507042\n",
       "3...</td>\n",
       "      <td>0    -0.284981\n",
       "1    -0.284981\n",
       "2     0.415486\n",
       "3...</td>\n",
       "      <td>0     0.487397\n",
       "1     0.487397\n",
       "2     0.013317\n",
       "3...</td>\n",
       "      <td>0     1.081329\n",
       "1     1.081329\n",
       "2     0.820319\n",
       "3...</td>\n",
       "    </tr>\n",
       "    <tr>\n",
       "      <th>22</th>\n",
       "      <td>0     0.175924\n",
       "1     0.175924\n",
       "2     0.194403\n",
       "3...</td>\n",
       "      <td>0     0.548757\n",
       "1     0.548757\n",
       "2    -3.699192\n",
       "3...</td>\n",
       "      <td>0    -1.191314\n",
       "1    -1.191314\n",
       "2    -0.554051\n",
       "3...</td>\n",
       "      <td>0     0.039951\n",
       "1     0.039951\n",
       "2     0.042614\n",
       "3...</td>\n",
       "      <td>0     0.263674\n",
       "1     0.263674\n",
       "2    -0.178446\n",
       "3...</td>\n",
       "      <td>0     0.937507\n",
       "1     0.937507\n",
       "2     0.071911\n",
       "3...</td>\n",
       "    </tr>\n",
       "    <tr>\n",
       "      <th>17</th>\n",
       "      <td>0      0.324449\n",
       "1      0.324449\n",
       "2      9.29442...</td>\n",
       "      <td>0     -0.977516\n",
       "1     -0.977516\n",
       "2     -6.96322...</td>\n",
       "      <td>0    -1.260218\n",
       "1    -1.260218\n",
       "2    -2.498493\n",
       "3...</td>\n",
       "      <td>0    -0.788358\n",
       "1    -0.788358\n",
       "2     2.434323\n",
       "3...</td>\n",
       "      <td>0     0.316941\n",
       "1     0.316941\n",
       "2    -0.079901\n",
       "3...</td>\n",
       "      <td>0     0.588605\n",
       "1     0.588605\n",
       "2     6.535916\n",
       "3...</td>\n",
       "    </tr>\n",
       "  </tbody>\n",
       "</table>\n",
       "</div>"
      ],
      "text/plain": [
       "                                                dim_0  \\\n",
       "2   0    -0.663284\n",
       "1    -0.663284\n",
       "2     5.393924\n",
       "3...   \n",
       "10  0      0.300413\n",
       "1      0.300413\n",
       "2     -1.96499...   \n",
       "3   0    -1.088052\n",
       "1    -1.088052\n",
       "2    -0.683620\n",
       "3...   \n",
       "22  0     0.175924\n",
       "1     0.175924\n",
       "2     0.194403\n",
       "3...   \n",
       "17  0      0.324449\n",
       "1      0.324449\n",
       "2      9.29442...   \n",
       "\n",
       "                                                dim_1  \\\n",
       "2   0     0.273010\n",
       "1     0.273010\n",
       "2    -3.079673\n",
       "3...   \n",
       "10  0      0.727580\n",
       "1      0.727580\n",
       "2     -0.30055...   \n",
       "3   0     0.183832\n",
       "1     0.183832\n",
       "2    -2.909047\n",
       "3...   \n",
       "22  0     0.548757\n",
       "1     0.548757\n",
       "2    -3.699192\n",
       "3...   \n",
       "17  0     -0.977516\n",
       "1     -0.977516\n",
       "2     -6.96322...   \n",
       "\n",
       "                                                dim_2  \\\n",
       "2   0    -0.160963\n",
       "1    -0.160963\n",
       "2    -3.175911\n",
       "3...   \n",
       "10  0     0.878731\n",
       "1     0.878731\n",
       "2    -1.226914\n",
       "3...   \n",
       "3   0    -0.260871\n",
       "1    -0.260871\n",
       "2     1.507042\n",
       "3...   \n",
       "22  0    -1.191314\n",
       "1    -1.191314\n",
       "2    -0.554051\n",
       "3...   \n",
       "17  0    -1.260218\n",
       "1    -1.260218\n",
       "2    -2.498493\n",
       "3...   \n",
       "\n",
       "                                                dim_3  \\\n",
       "2   0    -0.245030\n",
       "1    -0.245030\n",
       "2    -6.408074\n",
       "3...   \n",
       "10  0    -0.082565\n",
       "1    -0.082565\n",
       "2    -0.631219\n",
       "3...   \n",
       "3   0    -0.284981\n",
       "1    -0.284981\n",
       "2     0.415486\n",
       "3...   \n",
       "22  0     0.039951\n",
       "1     0.039951\n",
       "2     0.042614\n",
       "3...   \n",
       "17  0    -0.788358\n",
       "1    -0.788358\n",
       "2     2.434323\n",
       "3...   \n",
       "\n",
       "                                                dim_4  \\\n",
       "2   0    -0.077238\n",
       "1    -0.077238\n",
       "2     0.471417\n",
       "3...   \n",
       "10  0    -0.055931\n",
       "1    -0.055931\n",
       "2     0.039951\n",
       "3...   \n",
       "3   0     0.487397\n",
       "1     0.487397\n",
       "2     0.013317\n",
       "3...   \n",
       "22  0     0.263674\n",
       "1     0.263674\n",
       "2    -0.178446\n",
       "3...   \n",
       "17  0     0.316941\n",
       "1     0.316941\n",
       "2    -0.079901\n",
       "3...   \n",
       "\n",
       "                                                dim_5  \n",
       "2   0    -0.018644\n",
       "1    -0.018644\n",
       "2    -3.592890\n",
       "3...  \n",
       "10  0     0.668507\n",
       "1     0.668507\n",
       "2     0.130505\n",
       "3...  \n",
       "3   0     1.081329\n",
       "1     1.081329\n",
       "2     0.820319\n",
       "3...  \n",
       "22  0     0.937507\n",
       "1     0.937507\n",
       "2     0.071911\n",
       "3...  \n",
       "17  0     0.588605\n",
       "1     0.588605\n",
       "2     6.535916\n",
       "3...  "
      ]
     },
     "execution_count": 9,
     "metadata": {},
     "output_type": "execute_result"
    }
   ],
   "source": [
    "# multivariate input data\n",
    "X_train.head()"
   ]
  },
  {
   "cell_type": "code",
   "execution_count": 10,
   "metadata": {
    "scrolled": true
   },
   "outputs": [
    {
     "name": "stderr",
     "output_type": "stream",
     "text": [
      "/Users/travis/build/alan-turing-institute/sktime/sktime/transformers/series_as_features/summarize/_tsfresh.py:150: UserWarning: Found non-unique index, replaced with unique index.\n",
      "  warn(\"Found non-unique index, replaced with unique index.\")\n"
     ]
    },
    {
     "name": "stderr",
     "output_type": "stream",
     "text": [
      "\r",
      "Feature Extraction:   0%|          | 0/5 [00:00<?, ?it/s]"
     ]
    },
    {
     "name": "stderr",
     "output_type": "stream",
     "text": [
      "\r",
      "Feature Extraction:  20%|██        | 1/5 [00:07<00:28,  7.16s/it]"
     ]
    },
    {
     "name": "stderr",
     "output_type": "stream",
     "text": [
      "\r",
      "Feature Extraction:  40%|████      | 2/5 [00:13<00:21,  7.05s/it]"
     ]
    },
    {
     "name": "stderr",
     "output_type": "stream",
     "text": [
      "\r",
      "Feature Extraction:  60%|██████    | 3/5 [00:20<00:13,  7.00s/it]"
     ]
    },
    {
     "name": "stderr",
     "output_type": "stream",
     "text": [
      "\r",
      "Feature Extraction:  80%|████████  | 4/5 [00:27<00:06,  6.95s/it]"
     ]
    },
    {
     "name": "stderr",
     "output_type": "stream",
     "text": [
      "\r",
      "Feature Extraction: 100%|██████████| 5/5 [00:34<00:00,  6.95s/it]"
     ]
    },
    {
     "name": "stderr",
     "output_type": "stream",
     "text": [
      "\r",
      "Feature Extraction: 100%|██████████| 5/5 [00:34<00:00,  6.92s/it]"
     ]
    },
    {
     "name": "stderr",
     "output_type": "stream",
     "text": [
      "\n"
     ]
    },
    {
     "data": {
      "text/html": [
       "<div>\n",
       "<style scoped>\n",
       "    .dataframe tbody tr th:only-of-type {\n",
       "        vertical-align: middle;\n",
       "    }\n",
       "\n",
       "    .dataframe tbody tr th {\n",
       "        vertical-align: top;\n",
       "    }\n",
       "\n",
       "    .dataframe thead th {\n",
       "        text-align: right;\n",
       "    }\n",
       "</style>\n",
       "<table border=\"1\" class=\"dataframe\">\n",
       "  <thead>\n",
       "    <tr style=\"text-align: right;\">\n",
       "      <th>variable</th>\n",
       "      <th>dim_0__abs_energy</th>\n",
       "      <th>dim_0__absolute_sum_of_changes</th>\n",
       "      <th>dim_0__agg_autocorrelation__f_agg_\"mean\"__maxlag_40</th>\n",
       "      <th>dim_0__agg_autocorrelation__f_agg_\"median\"__maxlag_40</th>\n",
       "      <th>dim_0__agg_autocorrelation__f_agg_\"var\"__maxlag_40</th>\n",
       "      <th>dim_0__agg_linear_trend__attr_\"intercept\"__chunk_len_10__f_agg_\"max\"</th>\n",
       "      <th>dim_0__agg_linear_trend__attr_\"intercept\"__chunk_len_10__f_agg_\"mean\"</th>\n",
       "      <th>dim_0__agg_linear_trend__attr_\"intercept\"__chunk_len_10__f_agg_\"min\"</th>\n",
       "      <th>dim_0__agg_linear_trend__attr_\"intercept\"__chunk_len_10__f_agg_\"var\"</th>\n",
       "      <th>dim_0__agg_linear_trend__attr_\"intercept\"__chunk_len_50__f_agg_\"max\"</th>\n",
       "      <th>...</th>\n",
       "      <th>dim_5__symmetry_looking__r_0.9500000000000001</th>\n",
       "      <th>dim_5__time_reversal_asymmetry_statistic__lag_1</th>\n",
       "      <th>dim_5__time_reversal_asymmetry_statistic__lag_2</th>\n",
       "      <th>dim_5__time_reversal_asymmetry_statistic__lag_3</th>\n",
       "      <th>dim_5__value_count__value_-1</th>\n",
       "      <th>dim_5__value_count__value_0</th>\n",
       "      <th>dim_5__value_count__value_1</th>\n",
       "      <th>dim_5__variance</th>\n",
       "      <th>dim_5__variance_larger_than_standard_deviation</th>\n",
       "      <th>dim_5__variation_coefficient</th>\n",
       "    </tr>\n",
       "  </thead>\n",
       "  <tbody>\n",
       "    <tr>\n",
       "      <th>0</th>\n",
       "      <td>50.035273</td>\n",
       "      <td>42.580855</td>\n",
       "      <td>-0.010558</td>\n",
       "      <td>-0.020379</td>\n",
       "      <td>0.007655</td>\n",
       "      <td>2.764465</td>\n",
       "      <td>0.148212</td>\n",
       "      <td>-0.546997</td>\n",
       "      <td>1.128408</td>\n",
       "      <td>5.393924</td>\n",
       "      <td>...</td>\n",
       "      <td>1.0</td>\n",
       "      <td>0.033806</td>\n",
       "      <td>0.188196</td>\n",
       "      <td>0.241035</td>\n",
       "      <td>0.0</td>\n",
       "      <td>1.0</td>\n",
       "      <td>0.0</td>\n",
       "      <td>0.399832</td>\n",
       "      <td>0.0</td>\n",
       "      <td>-11.120113</td>\n",
       "    </tr>\n",
       "    <tr>\n",
       "      <th>1</th>\n",
       "      <td>15733.291175</td>\n",
       "      <td>830.921324</td>\n",
       "      <td>0.007213</td>\n",
       "      <td>-0.050807</td>\n",
       "      <td>0.148321</td>\n",
       "      <td>17.528861</td>\n",
       "      <td>4.097916</td>\n",
       "      <td>-16.694289</td>\n",
       "      <td>175.191225</td>\n",
       "      <td>20.613626</td>\n",
       "      <td>...</td>\n",
       "      <td>1.0</td>\n",
       "      <td>16.575667</td>\n",
       "      <td>53.551991</td>\n",
       "      <td>65.844355</td>\n",
       "      <td>0.0</td>\n",
       "      <td>0.0</td>\n",
       "      <td>0.0</td>\n",
       "      <td>26.867367</td>\n",
       "      <td>1.0</td>\n",
       "      <td>-51.801132</td>\n",
       "    </tr>\n",
       "    <tr>\n",
       "      <th>2</th>\n",
       "      <td>9.885558</td>\n",
       "      <td>18.719357</td>\n",
       "      <td>-0.015923</td>\n",
       "      <td>-0.009914</td>\n",
       "      <td>0.009444</td>\n",
       "      <td>0.416747</td>\n",
       "      <td>-0.155594</td>\n",
       "      <td>-0.789909</td>\n",
       "      <td>0.160280</td>\n",
       "      <td>1.732735</td>\n",
       "      <td>...</td>\n",
       "      <td>1.0</td>\n",
       "      <td>0.014714</td>\n",
       "      <td>0.009011</td>\n",
       "      <td>-0.016646</td>\n",
       "      <td>0.0</td>\n",
       "      <td>0.0</td>\n",
       "      <td>0.0</td>\n",
       "      <td>0.217038</td>\n",
       "      <td>0.0</td>\n",
       "      <td>19.242999</td>\n",
       "    </tr>\n",
       "    <tr>\n",
       "      <th>3</th>\n",
       "      <td>383.560959</td>\n",
       "      <td>127.018210</td>\n",
       "      <td>-0.000228</td>\n",
       "      <td>0.001823</td>\n",
       "      <td>0.125313</td>\n",
       "      <td>3.757798</td>\n",
       "      <td>1.359549</td>\n",
       "      <td>-0.846660</td>\n",
       "      <td>2.566076</td>\n",
       "      <td>4.442557</td>\n",
       "      <td>...</td>\n",
       "      <td>1.0</td>\n",
       "      <td>0.253500</td>\n",
       "      <td>0.439563</td>\n",
       "      <td>1.125258</td>\n",
       "      <td>0.0</td>\n",
       "      <td>0.0</td>\n",
       "      <td>0.0</td>\n",
       "      <td>2.834777</td>\n",
       "      <td>1.0</td>\n",
       "      <td>-56.442891</td>\n",
       "    </tr>\n",
       "    <tr>\n",
       "      <th>4</th>\n",
       "      <td>13876.020277</td>\n",
       "      <td>736.256653</td>\n",
       "      <td>0.005391</td>\n",
       "      <td>-0.171305</td>\n",
       "      <td>0.184510</td>\n",
       "      <td>14.628194</td>\n",
       "      <td>5.399811</td>\n",
       "      <td>-12.349274</td>\n",
       "      <td>75.352924</td>\n",
       "      <td>18.280817</td>\n",
       "      <td>...</td>\n",
       "      <td>1.0</td>\n",
       "      <td>2.145671</td>\n",
       "      <td>14.394118</td>\n",
       "      <td>24.538999</td>\n",
       "      <td>0.0</td>\n",
       "      <td>0.0</td>\n",
       "      <td>0.0</td>\n",
       "      <td>26.763240</td>\n",
       "      <td>1.0</td>\n",
       "      <td>-23.953564</td>\n",
       "    </tr>\n",
       "  </tbody>\n",
       "</table>\n",
       "<p>5 rows × 4542 columns</p>\n",
       "</div>"
      ],
      "text/plain": [
       "variable  dim_0__abs_energy  dim_0__absolute_sum_of_changes  \\\n",
       "0                 50.035273                       42.580855   \n",
       "1              15733.291175                      830.921324   \n",
       "2                  9.885558                       18.719357   \n",
       "3                383.560959                      127.018210   \n",
       "4              13876.020277                      736.256653   \n",
       "\n",
       "variable  dim_0__agg_autocorrelation__f_agg_\"mean\"__maxlag_40  \\\n",
       "0                                                 -0.010558     \n",
       "1                                                  0.007213     \n",
       "2                                                 -0.015923     \n",
       "3                                                 -0.000228     \n",
       "4                                                  0.005391     \n",
       "\n",
       "variable  dim_0__agg_autocorrelation__f_agg_\"median\"__maxlag_40  \\\n",
       "0                                                 -0.020379       \n",
       "1                                                 -0.050807       \n",
       "2                                                 -0.009914       \n",
       "3                                                  0.001823       \n",
       "4                                                 -0.171305       \n",
       "\n",
       "variable  dim_0__agg_autocorrelation__f_agg_\"var\"__maxlag_40  \\\n",
       "0                                                  0.007655    \n",
       "1                                                  0.148321    \n",
       "2                                                  0.009444    \n",
       "3                                                  0.125313    \n",
       "4                                                  0.184510    \n",
       "\n",
       "variable  dim_0__agg_linear_trend__attr_\"intercept\"__chunk_len_10__f_agg_\"max\"  \\\n",
       "0                                                  2.764465                      \n",
       "1                                                 17.528861                      \n",
       "2                                                  0.416747                      \n",
       "3                                                  3.757798                      \n",
       "4                                                 14.628194                      \n",
       "\n",
       "variable  dim_0__agg_linear_trend__attr_\"intercept\"__chunk_len_10__f_agg_\"mean\"  \\\n",
       "0                                                  0.148212                       \n",
       "1                                                  4.097916                       \n",
       "2                                                 -0.155594                       \n",
       "3                                                  1.359549                       \n",
       "4                                                  5.399811                       \n",
       "\n",
       "variable  dim_0__agg_linear_trend__attr_\"intercept\"__chunk_len_10__f_agg_\"min\"  \\\n",
       "0                                                 -0.546997                      \n",
       "1                                                -16.694289                      \n",
       "2                                                 -0.789909                      \n",
       "3                                                 -0.846660                      \n",
       "4                                                -12.349274                      \n",
       "\n",
       "variable  dim_0__agg_linear_trend__attr_\"intercept\"__chunk_len_10__f_agg_\"var\"  \\\n",
       "0                                                  1.128408                      \n",
       "1                                                175.191225                      \n",
       "2                                                  0.160280                      \n",
       "3                                                  2.566076                      \n",
       "4                                                 75.352924                      \n",
       "\n",
       "variable  dim_0__agg_linear_trend__attr_\"intercept\"__chunk_len_50__f_agg_\"max\"  \\\n",
       "0                                                  5.393924                      \n",
       "1                                                 20.613626                      \n",
       "2                                                  1.732735                      \n",
       "3                                                  4.442557                      \n",
       "4                                                 18.280817                      \n",
       "\n",
       "variable  ...  dim_5__symmetry_looking__r_0.9500000000000001  \\\n",
       "0         ...                                            1.0   \n",
       "1         ...                                            1.0   \n",
       "2         ...                                            1.0   \n",
       "3         ...                                            1.0   \n",
       "4         ...                                            1.0   \n",
       "\n",
       "variable  dim_5__time_reversal_asymmetry_statistic__lag_1  \\\n",
       "0                                                0.033806   \n",
       "1                                               16.575667   \n",
       "2                                                0.014714   \n",
       "3                                                0.253500   \n",
       "4                                                2.145671   \n",
       "\n",
       "variable  dim_5__time_reversal_asymmetry_statistic__lag_2  \\\n",
       "0                                                0.188196   \n",
       "1                                               53.551991   \n",
       "2                                                0.009011   \n",
       "3                                                0.439563   \n",
       "4                                               14.394118   \n",
       "\n",
       "variable  dim_5__time_reversal_asymmetry_statistic__lag_3  \\\n",
       "0                                                0.241035   \n",
       "1                                               65.844355   \n",
       "2                                               -0.016646   \n",
       "3                                                1.125258   \n",
       "4                                               24.538999   \n",
       "\n",
       "variable  dim_5__value_count__value_-1  dim_5__value_count__value_0  \\\n",
       "0                                  0.0                          1.0   \n",
       "1                                  0.0                          0.0   \n",
       "2                                  0.0                          0.0   \n",
       "3                                  0.0                          0.0   \n",
       "4                                  0.0                          0.0   \n",
       "\n",
       "variable  dim_5__value_count__value_1  dim_5__variance  \\\n",
       "0                                 0.0         0.399832   \n",
       "1                                 0.0        26.867367   \n",
       "2                                 0.0         0.217038   \n",
       "3                                 0.0         2.834777   \n",
       "4                                 0.0        26.763240   \n",
       "\n",
       "variable  dim_5__variance_larger_than_standard_deviation  \\\n",
       "0                                                    0.0   \n",
       "1                                                    1.0   \n",
       "2                                                    0.0   \n",
       "3                                                    1.0   \n",
       "4                                                    1.0   \n",
       "\n",
       "variable  dim_5__variation_coefficient  \n",
       "0                           -11.120113  \n",
       "1                           -51.801132  \n",
       "2                            19.242999  \n",
       "3                           -56.442891  \n",
       "4                           -23.953564  \n",
       "\n",
       "[5 rows x 4542 columns]"
      ]
     },
     "execution_count": 10,
     "metadata": {},
     "output_type": "execute_result"
    }
   ],
   "source": [
    "t = TSFreshFeatureExtractor(default_fc_parameters=\"efficient\", show_warnings=False)\n",
    "Xt = t.fit_transform(X_train)\n",
    "Xt.head()"
   ]
  }
 ],
 "metadata": {
  "kernelspec": {
   "display_name": "Python 3",
   "language": "python",
   "name": "python3"
  },
  "language_info": {
   "codemirror_mode": {
    "name": "ipython",
    "version": 3
   },
   "file_extension": ".py",
   "mimetype": "text/x-python",
   "name": "python",
   "nbconvert_exporter": "python",
   "pygments_lexer": "ipython3",
   "version": "3.7.7"
  }
 },
 "nbformat": 4,
 "nbformat_minor": 4
}
